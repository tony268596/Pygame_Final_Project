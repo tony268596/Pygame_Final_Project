{
 "cells": [
  {
   "cell_type": "code",
   "execution_count": 1,
   "id": "7444704a",
   "metadata": {},
   "outputs": [
    {
     "name": "stdout",
     "output_type": "stream",
     "text": [
      "pygame 2.0.1 (SDL 2.0.14, Python 3.8.8)\n",
      "Hello from the pygame community. https://www.pygame.org/contribute.html\n",
      "player: 123\n",
      "summon godtone\n",
      "summon howhow\n",
      "summon p\n",
      "summon p\n",
      "summon godtone\n",
      "summon p\n",
      "summon p\n",
      "summon godtone\n",
      "summon p\n",
      "summon godtone\n",
      "summon p\n",
      "summon godtone\n",
      "summon p\n",
      "summon godtone\n",
      "summon p\n",
      "summon brian\n",
      "summon godtone\n",
      "summon godtone\n",
      "summon brian\n",
      "summon brian\n",
      "summon brian\n",
      "summon godtone\n",
      "summon p\n",
      "summon godtone\n",
      "summon p\n",
      "summon godtone\n",
      "summon godtone\n",
      "summon godtone\n",
      "summon p\n",
      "summon godtone\n",
      "summon p\n",
      "summon p\n",
      "summon godtone\n",
      "summon godtone\n",
      "summon p\n",
      "summon godtone\n",
      "summon godtone\n",
      "summon godtone\n",
      "summon godtone\n",
      "summon godtone\n",
      "summon godtone\n",
      "summon godtone\n",
      "summon godtone\n",
      "summon brian\n"
     ]
    }
   ],
   "source": [
    "from start_menu import StartMenu\n",
    "\n",
    "if __name__ == '__main__':\n",
    "    m = StartMenu()\n",
    "    m.run()"
   ]
  }
 ],
 "metadata": {
  "kernelspec": {
   "display_name": "Python 3",
   "language": "python",
   "name": "python3"
  },
  "language_info": {
   "codemirror_mode": {
    "name": "ipython",
    "version": 3
   },
   "file_extension": ".py",
   "mimetype": "text/x-python",
   "name": "python",
   "nbconvert_exporter": "python",
   "pygments_lexer": "ipython3",
   "version": "3.8.8"
  }
 },
 "nbformat": 4,
 "nbformat_minor": 5
}
